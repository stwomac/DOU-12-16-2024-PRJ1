{
 "cells": [
  {
   "cell_type": "code",
   "execution_count": null,
   "metadata": {},
   "outputs": [],
   "source": []
  },
  {
   "cell_type": "markdown",
   "metadata": {},
   "source": [
    "# Test"
   ]
  },
  {
   "cell_type": "code",
   "execution_count": null,
   "metadata": {},
   "outputs": [],
   "source": []
  },
  {
   "cell_type": "code",
   "execution_count": 34,
   "metadata": {},
   "outputs": [
    {
     "name": "stdout",
     "output_type": "stream",
     "text": [
      "Welcome to the Matrix Operation Manager!\n",
      "\n",
      "To use this program type the number of the option and hit enter.\n",
      "Please select from the following options:\n",
      "1.) Create a Matrix\n",
      "2.) List current Matrices available\n",
      "3.) Perform a Matrix Operation\n",
      "4.) Delete a Matrix\n",
      "5.) Exit\n"
     ]
    }
   ],
   "source": [
    "class StateMachine:\n",
    "    \n",
    "    __CurrentState = 1\n",
    "    \n",
    "\n",
    "    def __init__(self):\n",
    "        self.__run()        \n",
    "        \n",
    "\n",
    "    def __home(self):\n",
    "        print(\"Welcome to the Matrix Operation Manager!\\n\\n\"\n",
    "              \"To use this program type the number of the option and hit enter.\\n\"\n",
    "              \"Please select from the following options:\\n\"\n",
    "              \"1.) Create a Matrix\\n\"\n",
    "              \"2.) List current Matrices available\\n\"\n",
    "              \"3.) Perform a Matrix Operation\\n\"\n",
    "              \"4.) Delete a Matrix\\n\"\n",
    "              \"5.) Exit\"\n",
    "        )\n",
    "\n",
    "        options = [ 1, 2, 3, 4, 5]\n",
    "        userInput = int(input())\n",
    "        \n",
    "        userInput = self.__inputValidation(options, userInput)\n",
    "        \n",
    "        if userInput == 5:\n",
    "            return 0\n",
    "        else:\n",
    "            return userInput\n",
    "  \n",
    "    #def __createMatrix()\n",
    "    def __inputValidation(self, options, userInput):\n",
    "        while userInput not in options:\n",
    "            print(\"Please enter the number of one of the options above: \")\n",
    "            userInput = int(input())\n",
    "        \n",
    "        return userInput\n",
    "\n",
    "    \n",
    "    __STATES = { 1: __home}\n",
    "    \n",
    "    def __run(self):\n",
    "        while self.__CurrentState != 0:\n",
    "            self.__CurrentState = self.__STATES[self.__CurrentState](self)\n",
    "            \n",
    "        \n",
    "\n",
    "\n",
    "obj = StateMachine()"
   ]
  },
  {
   "cell_type": "code",
   "execution_count": null,
   "metadata": {},
   "outputs": [],
   "source": [
    "options = [1,2,3,4]\n",
    "user_input = input()\n",
    "\n"
   ]
  }
 ],
 "metadata": {
  "kernelspec": {
   "display_name": "env",
   "language": "python",
   "name": "python3"
  },
  "language_info": {
   "codemirror_mode": {
    "name": "ipython",
    "version": 3
   },
   "file_extension": ".py",
   "mimetype": "text/x-python",
   "name": "python",
   "nbconvert_exporter": "python",
   "pygments_lexer": "ipython3",
   "version": "3.12.6"
  }
 },
 "nbformat": 4,
 "nbformat_minor": 2
}
