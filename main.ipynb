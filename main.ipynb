{
 "cells": [
  {
   "cell_type": "code",
   "execution_count": null,
   "metadata": {},
   "outputs": [],
   "source": []
  },
  {
   "cell_type": "markdown",
   "metadata": {},
   "source": [
    "# Test"
   ]
  },
  {
   "cell_type": "code",
   "execution_count": null,
   "metadata": {},
   "outputs": [],
   "source": []
  },
  {
   "cell_type": "code",
   "execution_count": 7,
   "metadata": {},
   "outputs": [
    {
     "name": "stdout",
     "output_type": "stream",
     "text": [
      "a\n"
     ]
    }
   ],
   "source": [
    "\n",
    "\n",
    "a = input(\"Hello please choose one of the following options\\r\\n 1.) Create a Matrix\\r\\n 2.) List available Matrices \")\n",
    "print(a)"
   ]
  },
  {
   "cell_type": "code",
   "execution_count": 12,
   "metadata": {},
   "outputs": [
    {
     "ename": "KeyError",
     "evalue": "1",
     "output_type": "error",
     "traceback": [
      "\u001b[1;31m---------------------------------------------------------------------------\u001b[0m",
      "\u001b[1;31mKeyError\u001b[0m                                  Traceback (most recent call last)",
      "Cell \u001b[1;32mIn[12], line 47\u001b[0m\n\u001b[0;32m     42\u001b[0m         \u001b[38;5;28;01mwhile\u001b[39;00m \u001b[38;5;28mself\u001b[39m\u001b[38;5;241m.\u001b[39m__CurrentState \u001b[38;5;241m!=\u001b[39m \u001b[38;5;241m0\u001b[39m:\n\u001b[0;32m     43\u001b[0m             \u001b[38;5;28mself\u001b[39m\u001b[38;5;241m.\u001b[39m__CurrentState \u001b[38;5;241m=\u001b[39m \u001b[38;5;28mself\u001b[39m\u001b[38;5;241m.\u001b[39mSTATES[\u001b[38;5;28mself\u001b[39m\u001b[38;5;241m.\u001b[39m__CurrentState]()\n\u001b[1;32m---> 47\u001b[0m obj \u001b[38;5;241m=\u001b[39m \u001b[43mStateMachine\u001b[49m\u001b[43m(\u001b[49m\u001b[43m)\u001b[49m\n",
      "Cell \u001b[1;32mIn[12], line 7\u001b[0m, in \u001b[0;36mStateMachine.__init__\u001b[1;34m(self)\u001b[0m\n\u001b[0;32m      6\u001b[0m \u001b[38;5;28;01mdef\u001b[39;00m \u001b[38;5;21m__init__\u001b[39m(\u001b[38;5;28mself\u001b[39m):\n\u001b[1;32m----> 7\u001b[0m     \u001b[38;5;28;43mself\u001b[39;49m\u001b[38;5;241;43m.\u001b[39;49m\u001b[43m__run\u001b[49m\u001b[43m(\u001b[49m\u001b[43m)\u001b[49m\n",
      "Cell \u001b[1;32mIn[12], line 43\u001b[0m, in \u001b[0;36mStateMachine.__run\u001b[1;34m(self)\u001b[0m\n\u001b[0;32m     41\u001b[0m \u001b[38;5;28;01mdef\u001b[39;00m \u001b[38;5;21m__run\u001b[39m(\u001b[38;5;28mself\u001b[39m):\n\u001b[0;32m     42\u001b[0m     \u001b[38;5;28;01mwhile\u001b[39;00m \u001b[38;5;28mself\u001b[39m\u001b[38;5;241m.\u001b[39m__CurrentState \u001b[38;5;241m!=\u001b[39m \u001b[38;5;241m0\u001b[39m:\n\u001b[1;32m---> 43\u001b[0m         \u001b[38;5;28mself\u001b[39m\u001b[38;5;241m.\u001b[39m__CurrentState \u001b[38;5;241m=\u001b[39m \u001b[38;5;28;43mself\u001b[39;49m\u001b[38;5;241;43m.\u001b[39;49m\u001b[43mSTATES\u001b[49m\u001b[43m[\u001b[49m\u001b[38;5;28;43mself\u001b[39;49m\u001b[38;5;241;43m.\u001b[39;49m\u001b[43m__CurrentState\u001b[49m\u001b[43m]\u001b[49m()\n",
      "\u001b[1;31mKeyError\u001b[0m: 1"
     ]
    }
   ],
   "source": [
    "class StateMachine:\n",
    "    \n",
    "    __CurrentState = 1\n",
    "    \n",
    "\n",
    "    def __init__(self):\n",
    "        self.__run()        \n",
    "\n",
    "\n",
    "    def __home(self):\n",
    "        print(\"Welcome to the Matrix Operation Manager!\\n\\n\"\n",
    "              \"To use this program type the number of the option and hit enter.\\n\"\n",
    "              \"Please select from the following options:\\n\"\n",
    "              \"1.) Create a Matrix\\n\"\n",
    "              \"2.) List current Matrices available\\n\"\n",
    "              \"3.) Perform a Matrix Operation\\n\"\n",
    "              \"4.) Delete a Matrix\\n\"\n",
    "              \"5.) Exit\"\n",
    "        )\n",
    "\n",
    "        options = [1,2,3,4, 5]\n",
    "        userInput = int(input())\n",
    "        \n",
    "        userInput = self.__inputValidation(options, userInput)\n",
    "        \n",
    "        if userInput == 5:\n",
    "            return 0\n",
    "        else:\n",
    "            return userInput\n",
    "  \n",
    "    #def __createMatrix()\n",
    "    def __inputValidation(self, options, userInput):\n",
    "        while userInput not in options:\n",
    "            print(\"Please enter the number of one of the options above: \")\n",
    "            userInput = int(input())\n",
    "        \n",
    "        return userInput\n",
    "\n",
    "    STATES = { \"1\": __home}\n",
    "\n",
    "    def __run(self):\n",
    "        while self.__CurrentState != 0:\n",
    "            self.__CurrentState = self.STATES[self.__CurrentState]()\n",
    "\n",
    "\n",
    "\n",
    "obj = StateMachine()"
   ]
  },
  {
   "cell_type": "code",
   "execution_count": null,
   "metadata": {},
   "outputs": [],
   "source": [
    "options = [1,2,3,4]\n",
    "user_input = input()\n",
    "\n"
   ]
  }
 ],
 "metadata": {
  "kernelspec": {
   "display_name": "env",
   "language": "python",
   "name": "python3"
  },
  "language_info": {
   "codemirror_mode": {
    "name": "ipython",
    "version": 3
   },
   "file_extension": ".py",
   "mimetype": "text/x-python",
   "name": "python",
   "nbconvert_exporter": "python",
   "pygments_lexer": "ipython3",
   "version": "3.12.6"
  }
 },
 "nbformat": 4,
 "nbformat_minor": 2
}
